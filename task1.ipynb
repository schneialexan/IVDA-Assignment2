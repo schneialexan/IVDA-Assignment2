{
 "cells": [
  {
   "cell_type": "markdown",
   "id": "ed312497",
   "metadata": {},
   "source": [
    "## Downloading the Dataset\n",
    "This code downloads the latest dataset and moves it to a local folder automatically (you need to be logged in for this to work)"
   ]
  },
  {
   "cell_type": "code",
   "execution_count": null,
   "id": "aa9a5bee",
   "metadata": {},
   "outputs": [],
   "source": [
    "import os\n",
    "import shutil\n",
    "import kagglehub\n",
    "\n",
    "output_dir = \"dataset/\"\n",
    "os.makedirs(output_dir, exist_ok=True)\n",
    "\n",
    "# Check if dataset already exists\n",
    "if os.listdir(output_dir):\n",
    "    print(f\"Dataset already exists in '{output_dir}', skipping download.\")\n",
    "else:\n",
    "    # Download the latest version\n",
    "    path = kagglehub.dataset_download(\"austinreese/craigslist-carstrucks-data\")\n",
    "    print(\"Path to downloaded dataset files:\", path)\n",
    "\n",
    "    # Copy all files from the KaggleHub path to your local dataset folder\n",
    "    for item in os.listdir(path):\n",
    "        s = os.path.join(path, item)\n",
    "        d = os.path.join(output_dir, item)\n",
    "        if os.path.isdir(s):\n",
    "            shutil.copytree(s, d, dirs_exist_ok=True)\n",
    "        else:\n",
    "            shutil.copy2(s, d)\n",
    "\n",
    "    print(\"Dataset moved to:\", os.path.abspath(output_dir))"
   ]
  },
  {
   "cell_type": "markdown",
   "id": "156f3215",
   "metadata": {},
   "source": [
    "## Domain"
   ]
  },
  {
   "cell_type": "markdown",
   "id": "7680b450",
   "metadata": {},
   "source": [
    "## What"
   ]
  },
  {
   "cell_type": "code",
   "execution_count": null,
   "id": "6d3f03d1",
   "metadata": {},
   "outputs": [],
   "source": [
    "import pandas as pd\n",
    "df = pd.read_csv('dataset/vehicles.csv', delimiter=',')"
   ]
  },
  {
   "cell_type": "code",
   "execution_count": null,
   "id": "b79a7ae5",
   "metadata": {},
   "outputs": [],
   "source": [
    "df.head(5)"
   ]
  },
  {
   "cell_type": "markdown",
   "id": "86c2f2d3",
   "metadata": {},
   "source": [
    "## Why"
   ]
  },
  {
   "cell_type": "markdown",
   "id": "be04c432",
   "metadata": {},
   "source": [
    "## How"
   ]
  },
  {
   "cell_type": "markdown",
   "id": "9413fd81",
   "metadata": {},
   "source": [
    "## Group Dynamics"
   ]
  }
 ],
 "metadata": {
  "kernelspec": {
   "display_name": "IVDA-Assignment2",
   "language": "python",
   "name": "python3"
  },
  "language_info": {
   "codemirror_mode": {
    "name": "ipython",
    "version": 3
   },
   "file_extension": ".py",
   "mimetype": "text/x-python",
   "name": "python",
   "nbconvert_exporter": "python",
   "pygments_lexer": "ipython3",
   "version": "3.13.9"
  }
 },
 "nbformat": 4,
 "nbformat_minor": 5
}
